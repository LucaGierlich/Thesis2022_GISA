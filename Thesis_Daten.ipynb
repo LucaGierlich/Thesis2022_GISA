{
 "cells": [
  {
   "cell_type": "code",
   "execution_count": 20,
   "metadata": {},
   "outputs": [],
   "source": [
    "import pandas as pd\n",
    "import numpy as np\n",
    "import glob"
   ]
  },
  {
   "cell_type": "code",
   "execution_count": null,
   "metadata": {},
   "outputs": [],
   "source": [
    "files = glob.glob(r\"C:\\Users\\LucaG\\Google Drive\\Studium\\Inhalt\\Wirtschaftsinformatik\\Thesis\\Daten\\Eingangstyp\\*.csv\")\n",
    "\n",
    "df = pd.DataFrame()\n",
    "for f in files:\n",
    "    csv = pd.read_csv(f, sep=\";\")\n",
    "    df = df.append(csv)"
   ]
  },
  {
   "cell_type": "code",
   "execution_count": 142,
   "metadata": {},
   "outputs": [],
   "source": [
    "df = df.drop(columns=[\"6\", \"Erstellt am\", \"Aktiv\"])"
   ]
  },
  {
   "cell_type": "code",
   "execution_count": 143,
   "metadata": {},
   "outputs": [],
   "source": [
    "df.at[0,'ID']=1813819\n",
    "df.at[1,'ID']=1813813\n",
    "df.at[2,'ID']=1813814"
   ]
  },
  {
   "cell_type": "code",
   "execution_count": 145,
   "metadata": {},
   "outputs": [],
   "source": [
    "df['Meldungseingang'] = df['Meldungseingang'].astype('str')"
   ]
  },
  {
   "cell_type": "code",
   "execution_count": 146,
   "metadata": {},
   "outputs": [],
   "source": [
    "df['ID'].isna().sum()\n",
    "df = df[df['ID'].notna()]"
   ]
  },
  {
   "cell_type": "code",
   "execution_count": null,
   "metadata": {},
   "outputs": [],
   "source": [
    "df.columns = [\"ticket_id\", \"input\"]"
   ]
  },
  {
   "cell_type": "code",
   "execution_count": 149,
   "metadata": {},
   "outputs": [],
   "source": [
    "df['ticket_id'] = df['ticket_id'].astype('int64')"
   ]
  },
  {
   "cell_type": "code",
   "execution_count": null,
   "metadata": {},
   "outputs": [],
   "source": [
    "df = df.drop_duplicates(\"ticket_id\")"
   ]
  },
  {
   "cell_type": "code",
   "execution_count": 153,
   "metadata": {},
   "outputs": [],
   "source": [
    "data = pd.read_csv(r'C:\\Users\\LucaG\\Google Drive\\Studium\\Inhalt\\Wirtschaftsinformatik\\Thesis\\Daten\\kpi_ticket_data_2019_2022.csv', sep=';')"
   ]
  },
  {
   "cell_type": "code",
   "execution_count": 129,
   "metadata": {},
   "outputs": [],
   "source": [
    "data[\"kpi_field_name\"] = np.where((data[\"kpi_operation\"] == \"create\"), \"create\", data[\"kpi_field_name\"])"
   ]
  },
  {
   "cell_type": "code",
   "execution_count": null,
   "metadata": {},
   "outputs": [],
   "source": [
    "data = data.assign(sorting=\"\")"
   ]
  },
  {
   "cell_type": "code",
   "execution_count": 131,
   "metadata": {},
   "outputs": [],
   "source": [
    "data = data.drop(columns=[\"kpi_id\", \"kpi_timestamp_old\", \"kpi_field_value_old\", \"kpi_operation\"])"
   ]
  },
  {
   "cell_type": "code",
   "execution_count": 133,
   "metadata": {},
   "outputs": [],
   "source": [
    "data[\"sorting\"] = np.where((data[\"kpi_field_name\"] == \"create\"), 1 , data[\"sorting\"])\n",
    "data[\"sorting\"] = np.where((data[\"kpi_field_name\"] == \"status\"), 8 , data[\"sorting\"])\n",
    "data[\"sorting\"] = np.where((data[\"kpi_field_name\"] == \"category\"), 2 , data[\"sorting\"])\n",
    "data[\"sorting\"] = np.where((data[\"kpi_field_name\"] == \"urgency\"), 3 , data[\"sorting\"])\n",
    "data[\"sorting\"] = np.where((data[\"kpi_field_name\"] == \"impact\"), 4 , data[\"sorting\"])\n",
    "data[\"sorting\"] = np.where((data[\"kpi_field_name\"] == \"priority\"), 5 , data[\"sorting\"])\n",
    "data[\"sorting\"] = np.where((data[\"kpi_field_name\"] == \"group\"), 6 , data[\"sorting\"])\n",
    "data[\"sorting\"] = np.where((data[\"kpi_field_name\"] == \"resolution_code\"), 7 , data[\"sorting\"])"
   ]
  },
  {
   "cell_type": "code",
   "execution_count": null,
   "metadata": {},
   "outputs": [],
   "source": [
    "data = data.assign(typ=\"\")"
   ]
  },
  {
   "cell_type": "code",
   "execution_count": null,
   "metadata": {},
   "outputs": [],
   "source": [
    "data[\"typ\"] = np.where((data[\"kpi_field_value\"].str.startswith (\"Incident\")), \"Incident\", data[\"typ\"])\n",
    "data[\"typ\"] = np.where((data[\"kpi_field_value\"].str.startswith (\"ServiceRequest\")), \"Service\", data[\"typ\"])\n",
    "data[\"typ\"] = np.where((data[\"kpi_field_value\"].str.startswith (\"auto\")), \"auto-unspezifiziert\", data[\"typ\"])"
   ]
  },
  {
   "cell_type": "code",
   "execution_count": null,
   "metadata": {},
   "outputs": [],
   "source": [
    "data[\"kpi_field_name\"] = np.where((data[\"kpi_field_name\"] == \"category\"), data[\"typ\"], data[\"kpi_field_name\"])"
   ]
  },
  {
   "cell_type": "code",
   "execution_count": null,
   "metadata": {},
   "outputs": [],
   "source": [
    "data[\"kpi_field_name\"] = np.where((data[\"kpi_field_name\"] == \"status\"), data[\"kpi_field_value\"] , data[\"kpi_field_name\"])"
   ]
  },
  {
   "cell_type": "code",
   "execution_count": null,
   "metadata": {},
   "outputs": [],
   "source": [
    "data[\"kpi_field_name\"] = np.where((data[\"kpi_field_name\"] == \"resolution_code\"), data[\"kpi_field_value\"] , data[\"kpi_field_name\"])"
   ]
  },
  {
   "cell_type": "code",
   "execution_count": null,
   "metadata": {},
   "outputs": [],
   "source": [
    "result = pd.merge(data, df, on=\"ticket_id\", how=\"left\")"
   ]
  },
  {
   "cell_type": "code",
   "execution_count": 152,
   "metadata": {},
   "outputs": [],
   "source": [
    "result.to_csv(r'C:\\Users\\LucaG\\Google Drive\\Studium\\Inhalt\\Wirtschaftsinformatik\\Thesis\\Daten\\result.csv', index=False )"
   ]
  }
 ],
 "metadata": {
  "kernelspec": {
   "display_name": "Python 3.9.12 ('base')",
   "language": "python",
   "name": "python3"
  },
  "language_info": {
   "codemirror_mode": {
    "name": "ipython",
    "version": 3
   },
   "file_extension": ".py",
   "mimetype": "text/x-python",
   "name": "python",
   "nbconvert_exporter": "python",
   "pygments_lexer": "ipython3",
   "version": "3.9.12"
  },
  "orig_nbformat": 4,
  "vscode": {
   "interpreter": {
    "hash": "61212673dd96c21b2ea598c3179e67f6673245fb8ab8021416824eeb2c613880"
   }
  }
 },
 "nbformat": 4,
 "nbformat_minor": 2
}
