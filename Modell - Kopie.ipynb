{
 "cells": [
  {
   "cell_type": "code",
   "execution_count": null,
   "metadata": {},
   "outputs": [],
   "source": [
    "import pandas as pd \n",
    "import numpy as np\n",
    "from sklearn.model_selection import train_test_split\n",
    "from sklearn.preprocessing import LabelEncoder\n",
    "from sklearn.feature_extraction.text import TfidfVectorizer\n",
    "from sklearn.linear_model import LogisticRegression\n",
    "from sklearn import svm\n",
    "from sklearn.svm import LinearSVC\n",
    "from sklearn.metrics import classification_report\n",
    "import pickle"
   ]
  },
  {
   "cell_type": "code",
   "execution_count": null,
   "metadata": {},
   "outputs": [],
   "source": [
    "#Daten einlesen\n",
    "data = pd.read_csv(r'C:\\Beispielnutzer\\sdm_meldungen_processed_2021_2022.csv', sep=\",\", engine=\"python\")"
   ]
  },
  {
   "cell_type": "code",
   "execution_count": null,
   "metadata": {},
   "outputs": [],
   "source": [
    "# Funktion für Schwellenwert\n",
    "def dropLowFrequency(df : object, y_col : str, th : int):\n",
    "    dfdropped = data.groupby(y_col).filter(lambda x : (x[y_col].count()>th).any())\n",
    "    return dfdropped"
   ]
  },
  {
   "cell_type": "code",
   "execution_count": null,
   "metadata": {},
   "outputs": [],
   "source": [
    "# Anwenden der Schwellenwertsfunktion\n",
    "dfdropped = dropLowFrequency(data,'gruppe_id', 10)"
   ]
  },
  {
   "cell_type": "code",
   "execution_count": null,
   "metadata": {},
   "outputs": [],
   "source": [
    "# Abhängige Variable (y) und unabhängige Variable (x) definieren\n",
    "y = dfdropped['gruppe_id']\n",
    "X = dfdropped['input']"
   ]
  },
  {
   "cell_type": "code",
   "execution_count": null,
   "metadata": {},
   "outputs": [],
   "source": [
    "# Trainings- Testmenge\n",
    "X_train,X_test,y_train,y_test = train_test_split(X,y,test_size=0.1, random_state=42, stratify=dfdropped['gruppe_id'])"
   ]
  },
  {
   "cell_type": "code",
   "execution_count": null,
   "metadata": {},
   "outputs": [],
   "source": [
    "# Label encoding\n",
    "Encoder = LabelEncoder()\n",
    "y_train_fit = Encoder.fit_transform(y_train)\n",
    "y_test_fit = Encoder.fit_transform(y_test)"
   ]
  },
  {
   "cell_type": "code",
   "execution_count": null,
   "metadata": {},
   "outputs": [],
   "source": [
    "# Embedding\n",
    "Tfidf_vect = TfidfVectorizer()\n",
    "X_train_Tfidf = Tfidf_vect.fit_transform(X_train.values.astype(str))\n",
    "X_test_Tfidf = Tfidf_vect.transform(X_test)"
   ]
  },
  {
   "cell_type": "code",
   "execution_count": null,
   "metadata": {},
   "outputs": [],
   "source": [
    "#Alternative 1\n",
    "# Logistische Regressionsmodell\n",
    "lr_tfidf=LogisticRegression(solver = 'sag', C=10, penalty = 'l2')\n",
    "\n",
    "lr_tfidf.fit(X_train_Tfidf, y_train)\n",
    "\n",
    "# Vorhersagen\n",
    "y_predict = lr_tfidf.predict(X_test_Tfidf)\n",
    "\n",
    "# Klassifikationsreport\n",
    "print(classification_report(y_test,y_predict))"
   ]
  },
  {
   "cell_type": "code",
   "execution_count": null,
   "metadata": {},
   "outputs": [],
   "source": [
    "# Alternative 2\n",
    "\"\"\"\n",
    "# SVM Modell vorbereiten\n",
    "svc = svm.LinearSVC()\n",
    "\n",
    "#Modell mithilfe des Trainingsdatensatzes trainieren (X-train_Tfidf als unabhängige Variable und y_train als abhängige Variable)\n",
    "svc.fit(X_train_Tfidf,y_train_fit)\n",
    "\n",
    "# Lable des Testdatensatzes vorhersagen und in predictions_SVC speichern\n",
    "predictions_SVC = svc.predict(X_test_Tfidf)\n",
    "\"\"\""
   ]
  },
  {
   "cell_type": "code",
   "execution_count": null,
   "metadata": {},
   "outputs": [],
   "source": [
    "#Modell speichern\n",
    "filename = 'model.pkl'\n",
    "pickle.dump(lr_tfidf, open(filename, 'wb'))"
   ]
  }
 ],
 "metadata": {
  "interpreter": {
   "hash": "52634da84371cba311ea128a5ea7cdc41ff074b781779e754b270ff9f8153cee"
  },
  "kernelspec": {
   "display_name": "Python 3.10.4 64-bit",
   "language": "python",
   "name": "python3"
  },
  "language_info": {
   "codemirror_mode": {
    "name": "ipython",
    "version": 3
   },
   "file_extension": ".py",
   "mimetype": "text/x-python",
   "name": "python",
   "nbconvert_exporter": "python",
   "pygments_lexer": "ipython3",
   "version": "3.10.4"
  },
  "orig_nbformat": 4
 },
 "nbformat": 4,
 "nbformat_minor": 2
}
