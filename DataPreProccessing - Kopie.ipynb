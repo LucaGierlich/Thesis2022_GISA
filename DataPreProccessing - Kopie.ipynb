{
  "cells": [
    {
      "cell_type": "code",
      "execution_count": null,
      "metadata": {
        "trusted": true
      },
      "outputs": [],
      "source": [
        "import pandas as pd\n",
        "import re, string\n",
        "import nltk\n",
        "from nltk.tokenize import word_tokenize\n",
        "from nltk.corpus import stopwords\n",
        "import spacy"
      ]
    },
    {
      "cell_type": "code",
      "execution_count": null,
      "metadata": {
        "trusted": true
      },
      "outputs": [],
      "source": [
        "# Datenquellen laden\n",
        "data2012 = pd.read_csv(r\"C:\\Beispielnutzer\\sdm_meldungen_2012_edit.txt\", sep=\",!,\", engine=\"python\")\n",
        "data2013 = pd.read_csv(r\"C:\\Beispielnutzer\\sdm_meldungen_2013_edit.txt\", sep=\",!,\", engine=\"python\")\n",
        "data2014 = pd.read_csv(r\"C:\\Beispielnutzer\\sdm_meldungen_2014_edit.txt\", sep=\",!,\", engine=\"python\")\n",
        "data2015 = pd.read_csv(r\"C:\\Beispielnutzer\\sdm_meldungen_2015_edit.txt\", sep=\",!,\", engine=\"python\")\n",
        "data2016 = pd.read_csv(r\"C:\\Beispielnutzer\\sdm_meldungen_2016_edit.txt\", sep=\",!,\", engine=\"python\")\n",
        "data2017 = pd.read_csv(r\"C:\\Beispielnutzer\\sdm_meldungen_2017_edit.txt\", sep=\",!,\", engine=\"python\")\n",
        "data2018 = pd.read_csv(r\"C:\\Beispielnutzer\\sdm_meldungen_2018_edit.txt\", sep=\",!,\", engine=\"python\")\n",
        "data2019 = pd.read_csv(r\"C:\\Beispielnutzer\\sdm_meldungen_2019_edit.txt\", sep=\",!,\", engine=\"python\")\n",
        "data2020 = pd.read_csv(r\"C:\\Beispielnutzer\\sdm_meldungen_2020_edit.txt\", sep=\",!,\", engine=\"python\")\n",
        "data2021 = pd.read_csv(r\"C:\\Beispielnutzer\\sdm_meldungen_2021_edit.txt\", sep=\",!,\", engine=\"python\")\n",
        "data2022 = pd.read_csv(r\"C:\\Beispielnutzer\\sdm_meldungen_2022_edit.txt\", sep=\",!,\", engine=\"python\")"
      ]
    },
    {
      "cell_type": "code",
      "execution_count": null,
      "metadata": {},
      "outputs": [],
      "source": [
        "# Dataframes joinen\n",
        "frames = [data2012, data2013, data2014, data2015, data2016, data2017, data2018, data2019, data2020, data2021, data2022] \n",
        "data = pd.concat(frames)"
      ]
    },
    {
      "cell_type": "code",
      "execution_count": null,
      "metadata": {},
      "outputs": [],
      "source": [
        "# Relevante Datenpunkte auswählen\n",
        "data = data[(data.status == \"Geschlossen\") | (data.status == \"Gelöst\")] "
      ]
    },
    {
      "cell_type": "code",
      "execution_count": null,
      "metadata": {},
      "outputs": [],
      "source": [
        "# NaN eliminieren\n",
        "data = data.where(pd.notnull(data),\" \")"
      ]
    },
    {
      "cell_type": "code",
      "execution_count": null,
      "metadata": {},
      "outputs": [],
      "source": [
        "# Format von float zu string ändern\n",
        "data['betroffener_endbenutzer_organisation'] = data['betroffener_endbenutzer_organisation'].astype('str') \n",
        "data['beschreibung'] = data['beschreibung'].astype('str')\n",
        "data['zusammenfassung'] = data['zusammenfassung'].astype('str')\n",
        "data['configuration_items'] = data['configuration_items'].astype('str')"
      ]
    },
    {
      "cell_type": "code",
      "execution_count": null,
      "metadata": {},
      "outputs": [],
      "source": [
        "#Text Vorverarbeitung\n",
        "def preprocess(text):\n",
        "    text = text.lower() # Der Text wird in kleine Buchstaben umgewandelt\n",
        "    text = text.strip()  # Führende/nachlaufende Leerzeichen entfernen\n",
        "    text = re.compile('<.*?>').sub('', text) #Entfernt HTML tags/markups\n",
        "    text = re.compile('[%s]' % re.escape(string.punctuation)).sub(' ', text)  #Ersetzt Sie Satzzeichen durch Leerzeichen\n",
        "    text = re.sub('\\s+', ' ', text)  #Entfernt zusätzliche Leerzeichen und Tabulatoren \n",
        "    text = re.sub(r'\\[[0-9]*\\]',' ',text) #[0-9] Entspricht einer beliebigen Ziffer (0 bis 10000...)\n",
        "    text = re.sub(r'\\d',' ',text) #Passt auf jede Ziffer von 0 bis 100000...,\n",
        "    text = re.sub(r'\\s+',' ',text) #\\s entspricht einem beliebigen Leerzeichen, \\s+ entspricht mehreren Leerzeichen, \\S entspricht Nicht-Leerzeichen \n",
        "    return text"
      ]
    },
    {
      "cell_type": "code",
      "execution_count": null,
      "metadata": {},
      "outputs": [],
      "source": [
        "# Stopwords entfernen\n",
        "def stopword(string):\n",
        "    a= [i for i in string.split() if i not in stopwords.words('german')]\n",
        "    return ' '.join(a)"
      ]
    },
    {
      "cell_type": "code",
      "execution_count": null,
      "metadata": {},
      "outputs": [],
      "source": [
        "# Funktionen stopwords und preprocess anwenden\n",
        "data['zusammenfassung'] = data['zusammenfassung'].apply(lambda x: stopword(preprocess(x)))\n",
        "data['beschreibung'] = data['beschreibung'].apply(lambda x: stopword(preprocess(x)))"
      ]
    },
    {
      "cell_type": "code",
      "execution_count": null,
      "metadata": {},
      "outputs": [],
      "source": [
        "# Lemmatisierungsfunktion definieren\n",
        "def lemmaDeu(df : object, column : str):\n",
        "    nlp = spacy.load('de_core_news_md')\n",
        "    df.loc[:, column] = df[column].apply(lambda x: ' '.join([a.lemma_ for a in nlp(x)]))\n",
        "    return df"
      ]
    },
    {
      "cell_type": "code",
      "execution_count": null,
      "metadata": {},
      "outputs": [],
      "source": [
        "# Lemmatisierung anwenden\n",
        "lemmaDeu(data,\"beschreibung\")\n",
        "lemmaDeu(data,\"zusammenfassung\")"
      ]
    },
    {
      "cell_type": "code",
      "execution_count": null,
      "metadata": {},
      "outputs": [],
      "source": [
        "# Nicht weiter genutzte Spalten entfernen\n",
        "data = data.drop([\"id\", \"ticket_id\", \"erstellt_am\",\"status\",\"gruppe_name\", \"service_solution\"], 1)"
      ]
    },
    {
      "cell_type": "code",
      "execution_count": null,
      "metadata": {},
      "outputs": [],
      "source": [
        "#Gewichtung der Spalten verändern + Zusammenfassen der Spalten\n",
        "x_col = [\"beschreibung\",\"meldungseingang\",\"betroffener_endbenutzer_organisation\",\"configuration_items\",\"zusammenfassung\"]\n",
        "output = [\"service_solution_id\",\"gruppe_id\"]"
      ]
    },
    {
      "cell_type": "code",
      "execution_count": null,
      "metadata": {},
      "outputs": [],
      "source": [
        "# Funktion zum ändern der Gwichtung\n",
        "def weightModification(df : object, factor : int, x_col : list):\n",
        "        df.loc[:, \"zusammenfassung\"] = df[\"zusammenfassung\"].apply(lambda x: (x+\" \")*factor)\n",
        "        df.loc[:, \"configuration_items\"] = df[\"configuration_items\"].apply(lambda x: (x+\" \")*factor)\n",
        "        df[\"input\"] = df[x_col].apply(\" \".join, axis=\"columns\")\n",
        "        df = df.drop(x_col,1)\n",
        "        df[\"input\"] = df[\"input\"].str.lower()\n",
        "        return df"
      ]
    },
    {
      "cell_type": "code",
      "execution_count": null,
      "metadata": {},
      "outputs": [],
      "source": [
        "# Gewichtungsfunktion anwenden\n",
        "data = weightModification(data,5,x_col)"
      ]
    },
    {
      "cell_type": "code",
      "execution_count": null,
      "metadata": {},
      "outputs": [],
      "source": [
        "# Funktion Tokenisierung definieren\n",
        "def tokenize(df : object, column : str):\n",
        "    df[column] = df.apply(lambda row: word_tokenize(row[column]), axis=1)\n",
        "    return df"
      ]
    },
    {
      "cell_type": "code",
      "execution_count": null,
      "metadata": {},
      "outputs": [],
      "source": [
        "#Funktion Tokenisierung anwenden\n",
        "tokenize(data,\"input\")"
      ]
    },
    {
      "cell_type": "code",
      "execution_count": null,
      "metadata": {},
      "outputs": [],
      "source": [
        "#Dataframe wird als .csv Datei gespeichert\n",
        "data.to_csv('sdm_meldungen_processed.csv', sep=',')"
      ]
    }
  ],
  "metadata": {
    "interpreter": {
      "hash": "52634da84371cba311ea128a5ea7cdc41ff074b781779e754b270ff9f8153cee"
    },
    "kernelspec": {
      "display_name": "Python 3.10.4 64-bit",
      "language": "python",
      "name": "python3"
    },
    "language_info": {
      "codemirror_mode": {
        "name": "ipython",
        "version": 3
      },
      "file_extension": ".py",
      "mimetype": "text/x-python",
      "name": "python",
      "nbconvert_exporter": "python",
      "pygments_lexer": "ipython3",
      "version": "3.10.4"
    }
  },
  "nbformat": 4,
  "nbformat_minor": 4
}
